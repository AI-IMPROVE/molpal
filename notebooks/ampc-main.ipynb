{
 "cells": [
  {
   "cell_type": "markdown",
   "metadata": {},
   "source": [
    "# Reward curve figures for AmpC dataset\n",
    "\n",
    "**NOTE:** This notebook assumes you have your directories organized like so\n",
    "```\n",
    "ROOT_DIRECTORY\n",
    "├── full\n",
    "│   ├── 0.001\n",
    "│   │   ├── rep-0 <-- output directory of a MolPAL run\n",
    "│   │  ...\n",
    "│   │   └── rep-N\n",
    "│   ├── 0.002\n",
    "│   └── 0.004\n",
    "└── prune\n",
    "    ├── 0.001\n",
    "    ├── 0.002\n",
    "    └── 0.004\n",
    "```"
   ]
  },
  {
   "cell_type": "markdown",
   "metadata": {},
   "source": [
    "### Step 1: run the cells below to define the functions"
   ]
  },
  {
   "cell_type": "code",
   "execution_count": 1,
   "metadata": {},
   "outputs": [],
   "source": [
    "from pathlib import Path\n",
    "import sys\n",
    "from typing import Iterable, List, Tuple\n",
    "\n",
    "from matplotlib import pyplot as plt, patheffects as pe, ticker\n",
    "import numpy as np\n",
    "import scipy.interpolate\n",
    "import seaborn as sns\n",
    "from tqdm.notebook import tqdm\n",
    "\n",
    "sys.path.append(\"../\")\n",
    "sys.path.append(\"../scripts/\")\n",
    "from scripts.experiment import Experiment\n",
    "from scripts.utils import build_true_dict\n",
    "\n",
    "sns.set_theme(\"talk\", \"white\")\n",
    "\n",
    "ROOT_DIR = Path.home() / \"active-projects/molpal-pruning/runs/ampc\"\n",
    "SIZE = 98.2e6\n",
    "k = 10000\n",
    "\n",
    "def pad_xss(xss: Iterable[Iterable]) -> np.ndarray:\n",
    "    n = max(len(xs) for xs in xss)\n",
    "    xss = [np.pad(xs, (0, n - len(xs)), constant_values=np.nan) for xs in xss]\n",
    "\n",
    "    return np.array(xss, float)\n",
    "\n",
    "def stack_curves(expts_dir: Path, top_k) -> np.ndarray:\n",
    "    ys = []\n",
    "    for p_exp in expts_dir.iterdir():\n",
    "        e = Experiment(p_exp)\n",
    "        ys.append(e.curve(top_k, \"scores\"))\n",
    "    \n",
    "    return pad_xss(ys)\n",
    "\n",
    "def calc_reward(split, top_k: List[Tuple], reward: str = \"scores\"):\n",
    "    Ys_full = []\n",
    "    for p in tqdm((ROOT_DIR / \"full\" / split).iterdir(), desc=\"no pruning\", leave=False):\n",
    "        e = Experiment(p)\n",
    "        Ys_full.append(e.curve(top_k, reward))\n",
    "    Y_f = np.array(Ys_full)\n",
    "\n",
    "    Ys_prune = []\n",
    "    for p in tqdm((ROOT_DIR / \"prune\" / split).iterdir(), desc=\"pruning\", leave=False):\n",
    "        e = Experiment(p)\n",
    "        Ys_prune.append(e.curve(top_k, reward))\n",
    "\n",
    "    N = max(len(Y) for Y in Ys_prune)\n",
    "    x_min = N\n",
    "    for i in range(len(Ys_prune)):\n",
    "        x_min = min(len(Ys_prune[i]), x_min)\n",
    "        Ys_prune[i] = np.pad(Ys_prune[i], [(0, N - len(Ys_prune[i]))], \"edge\")\n",
    "    Y_p = np.array(Ys_prune)\n",
    "\n",
    "    return Y_f, Y_p, x_min"
   ]
  },
  {
   "cell_type": "code",
   "execution_count": 16,
   "metadata": {},
   "outputs": [],
   "source": [
    "def plot_random_curve(ax, N):\n",
    "    p = k / SIZE\n",
    "\n",
    "    x = np.arange(N) + 1\n",
    "    Y = np.cumsum(np.where(np.random.uniform(size=(10, N)) < p, 1, 0), 1) / k\n",
    "    y_mean = np.nanmean(Y, 0)\n",
    "    y_sd = np.nanstd(Y, 0)\n",
    "\n",
    "    ax.plot(\n",
    "        x, y_mean, color=\"grey\", lw=2,\n",
    "        path_effects=[pe.Stroke(linewidth=3, foreground=\"k\"), pe.Normal()],\n",
    "        label=\"random\"\n",
    "    )\n",
    "    ax.fill_between(\n",
    "        x, y_mean - y_sd, y_mean + y_sd, color=\"grey\", dashes=\":\", lw=1., ec=\"black\", alpha=0.3\n",
    "    )\n",
    "\n",
    "    return ax\n",
    "\n",
    "def plot_reward(ax, Y_f, Y_p, x_min, split):\n",
    "    sns.set_palette(\"dark\")\n",
    "\n",
    "    x = np.arange(Y_p.shape[1]) + 1\n",
    "\n",
    "    Y_f = Y_f[:, :len(x)]\n",
    "    y_f_mean = np.nanmean(Y_f, 0)\n",
    "    y_f_sd = np.nanstd(Y_f, 0)\n",
    "\n",
    "    ax.plot(\n",
    "        x,\n",
    "        y_f_mean,\n",
    "        ls=\"solid\",\n",
    "        lw=2,\n",
    "        path_effects=[pe.Stroke(linewidth=3, foreground=\"k\"), pe.Normal()],\n",
    "        label=\"baseline\"\n",
    "    )\n",
    "    ax.fill_between(\n",
    "        x,\n",
    "        y_f_mean - y_f_sd,\n",
    "        y_f_mean + y_f_sd,\n",
    "        dashes=\":\",\n",
    "        lw=1.,\n",
    "        ec=\"black\",\n",
    "        alpha=0.3\n",
    "    )\n",
    "\n",
    "    y_p_mean = np.nanmean(Y_p, 0)\n",
    "    y_p_sd = np.nanstd(Y_p, 0)\n",
    "\n",
    "    ax.plot(\n",
    "        x,\n",
    "        y_p_mean,\n",
    "        # ls=\"dashed\",\n",
    "        lw=2,\n",
    "        path_effects=[pe.Stroke(linewidth=3, foreground=\"k\"), pe.Normal()],\n",
    "        label=\"DSP\"\n",
    "    )\n",
    "    ax.fill_between(\n",
    "        x,\n",
    "        y_p_mean - y_p_sd,\n",
    "        y_p_mean + y_p_sd,\n",
    "        dashes=\":\",\n",
    "        lw=1.,\n",
    "        ec=\"black\",\n",
    "        alpha=0.3\n",
    "    )\n",
    "\n",
    "    plot_random_curve(ax, Y_p.shape[1])\n",
    "\n",
    "    x_max = Y_p.shape[1]\n",
    "    if x_min < x_max:\n",
    "            ax.axvspan(x_min, x_max, color=\"grey\", alpha=0.2)\n",
    "    \n",
    "    ax.set_ylim(-0.05, 1.05)\n",
    "    \n",
    "    ax.xaxis.set_major_formatter(ticker.EngFormatter(sep=\"\"))\n",
    "    ax.xaxis.set_major_locator(ticker.MultipleLocator(float(split)*100e6))\n",
    "\n",
    "    ax.tick_params(axis=\"x\", which=\"major\", bottom=True, rotation=20)\n",
    "\n",
    "    ax.grid(True, ls=\"--\")\n",
    "\n",
    "    ax.set_xlabel(\"Molecules explored\")\n",
    "    ax.set_ylabel(f\"Fraction of Top-10000 Scores Found\")\n",
    "    ax.legend()\n",
    "\n",
    "    return ax"
   ]
  },
  {
   "cell_type": "code",
   "execution_count": 3,
   "metadata": {},
   "outputs": [],
   "source": [
    "def retained_idxss(expt: Experiment) -> List[np.ndarray]:\n",
    "    return [np.load(chkpt / \"retained_idxs.npy\") for chkpt in expt.chkpts[:-1]]\n",
    "\n",
    "def gcp_dollars(cpus: float = 0., gpus: float = 0) -> float:\n",
    "    return cpus * 0.0475/60**2 + gpus * 2.48/60**2\n",
    "    \n",
    "def cost_curve(expt: Experiment, prune: bool = True) -> Tuple[np.ndarray, np.ndarray]:\n",
    "    n_tr = np.array(expt.num_acquired)[:-1]\n",
    "    c_tr = n_tr * 6.16 / 400e3\n",
    "\n",
    "    if prune:\n",
    "        s = [SIZE]\n",
    "        for I in retained_idxss(expt)[:-1]:\n",
    "            s.append(len(I))\n",
    "        n_pred = np.array(s)\n",
    "        c_pred = n_pred * 20.52 / 98.2e6\n",
    "    else:\n",
    "        c_pred = 20.52 * (np.ones(expt.num_iters - 1))\n",
    "\n",
    "    return n_tr, np.cumsum(c_pred + c_tr)\n",
    "\n",
    "def align_cost_curves(X: np.ndarray, C_prune):\n",
    "    x_new = X.max(0)\n",
    "    C_prune_new = np.empty(C_prune.shape)\n",
    "\n",
    "    for i, (x, c) in enumerate(zip(X, C_prune)):\n",
    "        f = scipy.interpolate.interp1d(\n",
    "            x, c, \"previous\", bounds_error=False, fill_value=\"extrapolate\"\n",
    "        )\n",
    "        C_prune_new[i] = f(x_new)\n",
    "        \n",
    "    return C_prune_new\n",
    "\n",
    "def gen_cost_curves(split: str):\n",
    "    p = ROOT_DIR / \"full\" / split / \"rep-0\"\n",
    "    x_f, c_f = cost_curve(Experiment(p), False)\n",
    "\n",
    "    d_ampc_prune = ROOT_DIR / \"prune\"\n",
    "\n",
    "    x_min, x_max = np.inf, -np.inf\n",
    "    prune_curves = []\n",
    "    for p_exp in (d_ampc_prune / split).iterdir():\n",
    "        e = Experiment(p_exp)\n",
    "        prune_curves.append(cost_curve(e, True))\n",
    "\n",
    "        N_a_max = max(e.num_acquired)\n",
    "        x_min = min(x_min, N_a_max)\n",
    "        x_max = max(x_max, N_a_max)\n",
    "        \n",
    "    xs, prune_costs = zip(*prune_curves)\n",
    "    X = np.array(xs)\n",
    "    C_prune_new = align_cost_curves(X, np.array(prune_costs))\n",
    "\n",
    "    mask = x_f < x_max\n",
    "    x_f = x_f[mask]\n",
    "    c_f = c_f[mask]\n",
    "\n",
    "    return (x_f, c_f), (X.min(0), C_prune_new), (x_min, x_max)"
   ]
  },
  {
   "cell_type": "code",
   "execution_count": 4,
   "metadata": {},
   "outputs": [],
   "source": [
    "def plot_cost(ax, x_f, c_f, x_p, C_p, x_min, x_max):\n",
    "    sns.set_palette(\"dark\")\n",
    "\n",
    "    lines = ax.plot(\n",
    "        x_f, c_f, 'o',\n",
    "        mec='k', mew=2, label=\"no pruning\"\n",
    "    )\n",
    "    ax.step(\n",
    "        [0, *x_f, x_max], [0, *c_f, c_f[-1]], '-', where=\"post\",\n",
    "        color=lines[0].get_color()\n",
    "    )\n",
    "\n",
    "    # x = X.min(0)\n",
    "    ebars = ax.errorbar(\n",
    "        x_p, C_p.mean(0), yerr=C_p.std(0), fmt='o',\n",
    "        mec='k', mew=2, capsize=5, label=\"pruning\"\n",
    "    )\n",
    "    ax.step(\n",
    "        [0, *x_p, x_max], [0, *C_p.mean(0), C_p.mean(0)[-1]], '--', \n",
    "        where=\"post\", color=ebars.lines[0].get_color()\n",
    "    )\n",
    "\n",
    "    ax.axvspan(x_min, x_max, color=\"grey\", alpha=0.2)\n",
    "    \n",
    "    ax.set_xlabel(\"Molecules Explored\")\n",
    "    ax.set_ylabel(\"Overhead Cost / $\")\n",
    "    ax.grid(True, ls=\"--\")\n",
    "\n",
    "    ax.xaxis.set_major_formatter(ticker.EngFormatter(sep=\"\"))\n",
    "    ax.tick_params(axis=\"x\", rotation=20)\n",
    "    \n",
    "    return ax"
   ]
  },
  {
   "cell_type": "markdown",
   "metadata": {},
   "source": [
    "### Step 2: get the top-$k$ points for the datasets"
   ]
  },
  {
   "cell_type": "code",
   "execution_count": 5,
   "metadata": {},
   "outputs": [],
   "source": [
    "ampc_scores = build_true_dict(Path.home() / \"molpal/data/AmpC_glide_scores_top200k.csv\")\n",
    "ampc_top_k = sorted(ampc_scores.items(), key=lambda kv: kv[1], reverse=True)[:k]"
   ]
  },
  {
   "cell_type": "markdown",
   "metadata": {},
   "source": [
    "### Step 3: run the cells below with your desired split size\n",
    "\n",
    "**Note**: The value of `split` should be the name of the folder containing the results on your file system (see the top of this notebook for details)"
   ]
  },
  {
   "cell_type": "code",
   "execution_count": 6,
   "metadata": {},
   "outputs": [
    {
     "data": {
      "application/vnd.jupyter.widget-view+json": {
       "model_id": "6738cf6186134724b4132589e7714a73",
       "version_major": 2,
       "version_minor": 0
      },
      "text/plain": [
       "no pruning: 0it [00:00, ?it/s]"
      ]
     },
     "metadata": {},
     "output_type": "display_data"
    },
    {
     "data": {
      "application/vnd.jupyter.widget-view+json": {
       "model_id": "12c6b430a5fe4dba869dd60db9b510e3",
       "version_major": 2,
       "version_minor": 0
      },
      "text/plain": [
       "pruning: 0it [00:00, ?it/s]"
      ]
     },
     "metadata": {},
     "output_type": "display_data"
    }
   ],
   "source": [
    "split = \"0.004\"\n",
    "Y_f, Y_p, x_min = calc_reward(split, ampc_top_k)\n",
    "(x_f, c_f), (x_p, C_p), (x_min, x_max) = gen_cost_curves(split)"
   ]
  },
  {
   "cell_type": "code",
   "execution_count": 30,
   "metadata": {},
   "outputs": [
    {
     "data": {
      "text/html": [
       "<div>\n",
       "<style scoped>\n",
       "    .dataframe tbody tr th:only-of-type {\n",
       "        vertical-align: middle;\n",
       "    }\n",
       "\n",
       "    .dataframe tbody tr th {\n",
       "        vertical-align: top;\n",
       "    }\n",
       "\n",
       "    .dataframe thead th {\n",
       "        text-align: right;\n",
       "    }\n",
       "</style>\n",
       "<table border=\"1\" class=\"dataframe\">\n",
       "  <thead>\n",
       "    <tr style=\"text-align: right;\">\n",
       "      <th></th>\n",
       "      <th>num_samples</th>\n",
       "      <th>baseline_cost</th>\n",
       "      <th>dsp_cost</th>\n",
       "    </tr>\n",
       "  </thead>\n",
       "  <tbody>\n",
       "    <tr>\n",
       "      <th>0</th>\n",
       "      <td>392906</td>\n",
       "      <td>26.570752</td>\n",
       "      <td>26.570752</td>\n",
       "    </tr>\n",
       "    <tr>\n",
       "      <th>1</th>\n",
       "      <td>785812</td>\n",
       "      <td>59.192257</td>\n",
       "      <td>39.585917</td>\n",
       "    </tr>\n",
       "    <tr>\n",
       "      <th>2</th>\n",
       "      <td>1178718</td>\n",
       "      <td>97.864514</td>\n",
       "      <td>57.919624</td>\n",
       "    </tr>\n",
       "  </tbody>\n",
       "</table>\n",
       "</div>"
      ],
      "text/plain": [
       "   num_samples  baseline_cost   dsp_cost\n",
       "0       392906      26.570752  26.570752\n",
       "1       785812      59.192257  39.585917\n",
       "2      1178718      97.864514  57.919624"
      ]
     },
     "execution_count": 30,
     "metadata": {},
     "output_type": "execute_result"
    }
   ],
   "source": [
    "import pandas as pd\n",
    "\n",
    "pd.DataFrame({\n",
    "    \"num_samples\": x_p,\n",
    "    \"baseline_cost\": c_f,\n",
    "    \"dsp_cost\": C_p.mean(0)\n",
    "})"
   ]
  },
  {
   "cell_type": "code",
   "execution_count": 8,
   "metadata": {},
   "outputs": [
    {
     "data": {
      "text/plain": [
       "((array([ 392906,  785812, 1178718]),\n",
       "  array([26.5707524, 59.1922572, 97.8645144])),\n",
       " (array([ 392906,  785812, 1178718]),\n",
       "  array([[26.5707524 , 39.59844349, 57.9349565 ],\n",
       "         [26.5707524 , 39.75945298, 58.10793425],\n",
       "         [26.5707524 , 39.39985482, 57.71598261]])))"
      ]
     },
     "execution_count": 8,
     "metadata": {},
     "output_type": "execute_result"
    }
   ],
   "source": [
    "(x_f, c_f), (x_p, C_p)"
   ]
  },
  {
   "cell_type": "code",
   "execution_count": 23,
   "metadata": {},
   "outputs": [
    {
     "data": {
      "text/plain": [
       "(0.6596, 0.6884)"
      ]
     },
     "execution_count": 23,
     "metadata": {},
     "output_type": "execute_result"
    }
   ],
   "source": [
    "Y_f.min(0)[x_min-1], Y_f.max(0)[x_max-1]"
   ]
  },
  {
   "cell_type": "code",
   "execution_count": 24,
   "metadata": {},
   "outputs": [
    {
     "data": {
      "text/plain": [
       "(0.6629, 0.6906)"
      ]
     },
     "execution_count": 24,
     "metadata": {},
     "output_type": "execute_result"
    }
   ],
   "source": [
    "Y_p.min(0)[x_min-1], Y_p.max(0)[x_max-1]"
   ]
  },
  {
   "cell_type": "code",
   "execution_count": 17,
   "metadata": {},
   "outputs": [
    {
     "data": {
      "image/png": "[encoded data removed]",
      "text/plain": [
       "<Figure size 360x432 with 1 Axes>"
      ]
     },
     "metadata": {},
     "output_type": "display_data"
    }
   ],
   "source": [
    "sns.set_palette(\"dark\")\n",
    "fig, ax = plt.subplots(1, 1, figsize=(5, 6))\n",
    "\n",
    "plot_reward(ax, Y_f, Y_p, x_min, split)\n",
    "# plot_cost(axs[1], x_f, c_f, x_p, C_p, x_min, x_max)\n",
    "\n",
    "fig.tight_layout()"
   ]
  },
  {
   "cell_type": "code",
   "execution_count": 19,
   "metadata": {},
   "outputs": [],
   "source": [
    "fig.savefig(f\"../figures/ampc-{split[2:]}-curves-10k.png\", dpi=400)"
   ]
  },
  {
   "cell_type": "code",
   "execution_count": null,
   "metadata": {},
   "outputs": [],
   "source": []
  }
 ],
 "metadata": {
  "interpreter": {
   "hash": "d6c2dba2900988a7828682055130831155e67521967674feb20a8cac4476ee83"
  },
  "kernelspec": {
   "display_name": "Python 3.8.12 64-bit ('molpal': conda)",
   "name": "python3"
  },
  "language_info": {
   "codemirror_mode": {
    "name": "ipython",
    "version": 3
   },
   "file_extension": ".py",
   "mimetype": "text/x-python",
   "name": "python",
   "nbconvert_exporter": "python",
   "pygments_lexer": "ipython3",
   "version": "3.8.12"
  },
  "orig_nbformat": 4
 },
 "nbformat": 4,
 "nbformat_minor": 2
}
